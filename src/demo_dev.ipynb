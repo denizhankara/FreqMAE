{
 "cells": [
  {
   "cell_type": "code",
   "execution_count": 1,
   "metadata": {},
   "outputs": [
    {
     "name": "stderr",
     "output_type": "stream",
     "text": [
      "/home/kara4/anaconda3/envs/foundationsense/lib/python3.8/site-packages/tqdm/auto.py:22: TqdmWarning: IProgress not found. Please update jupyter and ipywidgets. See https://ipywidgets.readthedocs.io/en/stable/user_install.html\n",
      "  from .autonotebook import tqdm as notebook_tqdm\n"
     ]
    }
   ],
   "source": [
    "import torch"
   ]
  },
  {
   "cell_type": "code",
   "execution_count": 3,
   "metadata": {},
   "outputs": [
    {
     "name": "stdout",
     "output_type": "stream",
     "text": [
      "torch.Size([128, 4, 8])\n",
      "tensor([[[ True, False,  True,  ..., False,  True, False],\n",
      "         [ True, False,  True,  ..., False,  True, False],\n",
      "         [ True, False,  True,  ..., False,  True, False],\n",
      "         [ True, False,  True,  ..., False,  True, False]],\n",
      "\n",
      "        [[ True, False,  True,  ..., False,  True, False],\n",
      "         [ True, False,  True,  ..., False,  True, False],\n",
      "         [ True, False,  True,  ..., False,  True, False],\n",
      "         [ True, False,  True,  ..., False,  True, False]],\n",
      "\n",
      "        [[ True, False,  True,  ..., False,  True, False],\n",
      "         [ True, False,  True,  ..., False,  True, False],\n",
      "         [ True, False,  True,  ..., False,  True, False],\n",
      "         [ True, False,  True,  ..., False,  True, False]],\n",
      "\n",
      "        ...,\n",
      "\n",
      "        [[ True, False,  True,  ..., False,  True, False],\n",
      "         [ True, False,  True,  ..., False,  True, False],\n",
      "         [ True, False,  True,  ..., False,  True, False],\n",
      "         [ True, False,  True,  ..., False,  True, False]],\n",
      "\n",
      "        [[ True, False,  True,  ..., False,  True, False],\n",
      "         [ True, False,  True,  ..., False,  True, False],\n",
      "         [ True, False,  True,  ..., False,  True, False],\n",
      "         [ True, False,  True,  ..., False,  True, False]],\n",
      "\n",
      "        [[ True, False,  True,  ..., False,  True, False],\n",
      "         [ True, False,  True,  ..., False,  True, False],\n",
      "         [ True, False,  True,  ..., False,  True, False],\n",
      "         [ True, False,  True,  ..., False,  True, False]]])\n"
     ]
    }
   ],
   "source": [
    "def generate_alternating_bitmask(size=(128, 4, 8)):\n",
    "    bit_mask = torch.zeros(size, dtype=torch.bool)\n",
    "    \n",
    "    # Set alternating columns to True\n",
    "    bit_mask[:, :, ::2] = True\n",
    "    \n",
    "    return bit_mask\n",
    "\n",
    "bit_mask = generate_alternating_bitmask()\n",
    "print(bit_mask.shape)\n",
    "print(bit_mask)\n"
   ]
  },
  {
   "cell_type": "code",
   "execution_count": 7,
   "metadata": {},
   "outputs": [
    {
     "name": "stdout",
     "output_type": "stream",
     "text": [
      "torch.Size([128, 4, 8])\n",
      "tensor([[[ True,  True,  True,  ...,  True,  True,  True],\n",
      "         [False, False, False,  ..., False, False, False],\n",
      "         [ True,  True,  True,  ...,  True,  True,  True],\n",
      "         [False, False, False,  ..., False, False, False]],\n",
      "\n",
      "        [[ True,  True,  True,  ...,  True,  True,  True],\n",
      "         [False, False, False,  ..., False, False, False],\n",
      "         [ True,  True,  True,  ...,  True,  True,  True],\n",
      "         [False, False, False,  ..., False, False, False]],\n",
      "\n",
      "        [[ True,  True,  True,  ...,  True,  True,  True],\n",
      "         [False, False, False,  ..., False, False, False],\n",
      "         [ True,  True,  True,  ...,  True,  True,  True],\n",
      "         [False, False, False,  ..., False, False, False]],\n",
      "\n",
      "        ...,\n",
      "\n",
      "        [[ True,  True,  True,  ...,  True,  True,  True],\n",
      "         [False, False, False,  ..., False, False, False],\n",
      "         [ True,  True,  True,  ...,  True,  True,  True],\n",
      "         [False, False, False,  ..., False, False, False]],\n",
      "\n",
      "        [[ True,  True,  True,  ...,  True,  True,  True],\n",
      "         [False, False, False,  ..., False, False, False],\n",
      "         [ True,  True,  True,  ...,  True,  True,  True],\n",
      "         [False, False, False,  ..., False, False, False]],\n",
      "\n",
      "        [[ True,  True,  True,  ...,  True,  True,  True],\n",
      "         [False, False, False,  ..., False, False, False],\n",
      "         [ True,  True,  True,  ...,  True,  True,  True],\n",
      "         [False, False, False,  ..., False, False, False]]])\n"
     ]
    }
   ],
   "source": [
    "import torch\n",
    "\n",
    "def generate_alternating_bitmask(size=(128, 4, 8)):\n",
    "    bit_mask = torch.zeros(size, dtype=torch.bool)\n",
    "\n",
    "    # Randomly choose between alternating rows and alternating columns\n",
    "    choice = torch.randint(0, 2, (1,))\n",
    "\n",
    "    if choice == 0:\n",
    "        # Set alternating columns to True\n",
    "        bit_mask[:, :, ::2] = True\n",
    "    else:\n",
    "        # Set alternating rows to True\n",
    "        bit_mask[:, ::2, :] = True\n",
    "    \n",
    "    return bit_mask\n"
   ]
  },
  {
   "cell_type": "code",
   "execution_count": 9,
   "metadata": {},
   "outputs": [
    {
     "name": "stdout",
     "output_type": "stream",
     "text": [
      "torch.Size([128, 4, 8])\n",
      "tensor([[[ True, False,  True,  ..., False,  True, False],\n",
      "         [ True, False,  True,  ..., False,  True, False],\n",
      "         [ True, False,  True,  ..., False,  True, False],\n",
      "         [ True, False,  True,  ..., False,  True, False]],\n",
      "\n",
      "        [[ True, False,  True,  ..., False,  True, False],\n",
      "         [ True, False,  True,  ..., False,  True, False],\n",
      "         [ True, False,  True,  ..., False,  True, False],\n",
      "         [ True, False,  True,  ..., False,  True, False]],\n",
      "\n",
      "        [[ True, False,  True,  ..., False,  True, False],\n",
      "         [ True, False,  True,  ..., False,  True, False],\n",
      "         [ True, False,  True,  ..., False,  True, False],\n",
      "         [ True, False,  True,  ..., False,  True, False]],\n",
      "\n",
      "        ...,\n",
      "\n",
      "        [[ True, False,  True,  ..., False,  True, False],\n",
      "         [ True, False,  True,  ..., False,  True, False],\n",
      "         [ True, False,  True,  ..., False,  True, False],\n",
      "         [ True, False,  True,  ..., False,  True, False]],\n",
      "\n",
      "        [[ True, False,  True,  ..., False,  True, False],\n",
      "         [ True, False,  True,  ..., False,  True, False],\n",
      "         [ True, False,  True,  ..., False,  True, False],\n",
      "         [ True, False,  True,  ..., False,  True, False]],\n",
      "\n",
      "        [[ True, False,  True,  ..., False,  True, False],\n",
      "         [ True, False,  True,  ..., False,  True, False],\n",
      "         [ True, False,  True,  ..., False,  True, False],\n",
      "         [ True, False,  True,  ..., False,  True, False]]])\n"
     ]
    }
   ],
   "source": [
    "bit_mask = generate_alternating_bitmask()\n",
    "print(bit_mask.shape)\n",
    "print(bit_mask)\n"
   ]
  },
  {
   "cell_type": "code",
   "execution_count": null,
   "metadata": {},
   "outputs": [],
   "source": []
  }
 ],
 "metadata": {
  "kernelspec": {
   "display_name": "foundationsense",
   "language": "python",
   "name": "python3"
  },
  "language_info": {
   "codemirror_mode": {
    "name": "ipython",
    "version": 3
   },
   "file_extension": ".py",
   "mimetype": "text/x-python",
   "name": "python",
   "nbconvert_exporter": "python",
   "pygments_lexer": "ipython3",
   "version": "3.8.16"
  },
  "orig_nbformat": 4
 },
 "nbformat": 4,
 "nbformat_minor": 2
}
